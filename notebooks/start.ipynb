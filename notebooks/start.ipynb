{
 "cells": [
  {
   "attachments": {},
   "cell_type": "markdown",
   "metadata": {},
   "source": [
    "# GTSRB Dataset\n",
    "\n",
    "**Problem:** Implement a neural network model capable of identifying a german road sign as accuratelly as possible.\n",
    "\n",
    "In this notebook we will start with a simple model and train it without any data augmentation. This allows us to get a base value for our accuracy, so that we can better grasp the improvements or regressions obtained from our methods."
   ]
  }
 ],
 "metadata": {
  "kernelspec": {
   "display_name": "tf",
   "language": "python",
   "name": "python3"
  },
  "language_info": {
   "codemirror_mode": {
    "name": "ipython",
    "version": 3
   },
   "file_extension": ".py",
   "mimetype": "text/x-python",
   "name": "python",
   "nbconvert_exporter": "python",
   "pygments_lexer": "ipython3",
   "version": "3.11.0"
  },
  "orig_nbformat": 4
 },
 "nbformat": 4,
 "nbformat_minor": 2
}
